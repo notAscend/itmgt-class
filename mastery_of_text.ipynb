{
 "cells": [
  {
   "cell_type": "code",
   "execution_count": 4,
   "id": "1fe6ab2d-8dcd-45f5-b627-8fc261b3e582",
   "metadata": {},
   "outputs": [
    {
     "name": "stdout",
     "output_type": "stream",
     "text": [
      "Line count: 99968 \n",
      "Word count: 795227 \n",
      "# of times the word apostle appears: 47 \n",
      "Most common word: the\n"
     ]
    }
   ],
   "source": [
    "import urllib.request\n",
    "response = urllib.request.urlopen(\"https://www.gutenberg.org/cache/epub/10/pg10.txt\")\n",
    "pg10bytes = response.read()\n",
    "pg10 = pg10bytes.decode('utf-8')\n",
    "\n",
    "linecnt = (len(pg10.splitlines()))\n",
    "\n",
    "def extract(s):\n",
    "    words = []\n",
    "    word = \"\"\n",
    "    for c in s:\n",
    "        if c.isalpha(): word+=c\n",
    "        else: \n",
    "            if word:\n",
    "                words.append(word)\n",
    "                word = \"\"\n",
    "    if word: words.append(word)\n",
    "    return words \n",
    "words = extract(pg10)\n",
    "wordcnt = len(words)\n",
    "\n",
    "apostlecnt = 0\n",
    "for w in words:\n",
    "    if w.lower() == \"apostle\": apostlecnt+=1\n",
    "\n",
    "word_freq = {}\n",
    "for word in words:\n",
    "    if word in word_freq: word_freq[word]+=1\n",
    "    else: word_freq[word]=1 \n",
    "\n",
    "maxcnt = 0\n",
    "common = None\n",
    "for word, cnt in word_freq.items():\n",
    "    if cnt > maxcnt:\n",
    "        common = word\n",
    "        maxcnt = cnt \n",
    "\n",
    "print(\"Line count:\",linecnt,\"\\nWord count:\", wordcnt,\"\\n# of times the word \"\"apostle\"\" appears:\",apostlecnt,\"\\nMost common word:\", common)  "
   ]
  },
  {
   "cell_type": "code",
   "execution_count": null,
   "id": "8d08e867-c33b-43ca-8761-9fb09699320d",
   "metadata": {},
   "outputs": [],
   "source": []
  },
  {
   "cell_type": "code",
   "execution_count": null,
   "id": "0f352fe1-cf95-4903-9934-2e7a629a25e0",
   "metadata": {},
   "outputs": [],
   "source": []
  }
 ],
 "metadata": {
  "kernelspec": {
   "display_name": "Python [conda env:base] *",
   "language": "python",
   "name": "conda-base-py"
  },
  "language_info": {
   "codemirror_mode": {
    "name": "ipython",
    "version": 3
   },
   "file_extension": ".py",
   "mimetype": "text/x-python",
   "name": "python",
   "nbconvert_exporter": "python",
   "pygments_lexer": "ipython3",
   "version": "3.12.7"
  }
 },
 "nbformat": 4,
 "nbformat_minor": 5
}
